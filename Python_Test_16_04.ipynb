{
  "nbformat": 4,
  "nbformat_minor": 0,
  "metadata": {
    "colab": {
      "name": "Python_Test_16_04.ipynb",
      "provenance": [],
      "authorship_tag": "ABX9TyP3i/teCWnjMAN+yyDuXRRe",
      "include_colab_link": true
    },
    "kernelspec": {
      "name": "python3",
      "display_name": "Python 3"
    },
    "language_info": {
      "name": "python"
    }
  },
  "cells": [
    {
      "cell_type": "markdown",
      "metadata": {
        "id": "view-in-github",
        "colab_type": "text"
      },
      "source": [
        "<a href=\"https://colab.research.google.com/github/JerinRaj20/Python_Test_16_04/blob/main/Python_Test_16_04.ipynb\" target=\"_parent\"><img src=\"https://colab.research.google.com/assets/colab-badge.svg\" alt=\"Open In Colab\"/></a>"
      ]
    },
    {
      "cell_type": "code",
      "execution_count": 1,
      "metadata": {
        "colab": {
          "base_uri": "https://localhost:8080/",
          "height": 132
        },
        "id": "-dhRSYdRR7TL",
        "outputId": "6830dcb4-6d84-4a5c-c8ee-cffd275ee617"
      },
      "outputs": [
        {
          "output_type": "error",
          "ename": "SyntaxError",
          "evalue": "ignored",
          "traceback": [
            "\u001b[0;36m  File \u001b[0;32m\"<ipython-input-1-2667577c032c>\"\u001b[0;36m, line \u001b[0;32m6\u001b[0m\n\u001b[0;31m    \u001b[0m\n\u001b[0m    ^\u001b[0m\n\u001b[0;31mSyntaxError\u001b[0m\u001b[0;31m:\u001b[0m unexpected EOF while parsing\n"
          ]
        }
      ],
      "source": [
        "#Question 1\n",
        "\n",
        "a = [1,2,1,2,3]\n",
        "def unique():\n",
        "\n",
        "\n"
      ]
    },
    {
      "cell_type": "code",
      "source": [
        "#Question2 -Average of a set of integers\n",
        "\n",
        "a =int(input(\"Please type the number\"))\n",
        "sum =0\n",
        "\n",
        "for i in range(1,a+1):\n",
        "  sum = sum+ i\n",
        "  avg = sum/a\n",
        "\n",
        "print(avg)  "
      ],
      "metadata": {
        "colab": {
          "base_uri": "https://localhost:8080/"
        },
        "id": "XHZOLLVeTiVx",
        "outputId": "c6ad917e-6231-4f85-83d9-7f6255f2c4c6"
      },
      "execution_count": 5,
      "outputs": [
        {
          "output_type": "stream",
          "name": "stdout",
          "text": [
            "Please type the number3\n",
            "2.0\n"
          ]
        }
      ]
    },
    {
      "cell_type": "code",
      "source": [
        "#Question 3 - to check whether given integer is multiple of 5 and 7\n",
        "\n",
        "a =int(input(\"Please type the number\"))\n",
        "\n",
        "if (a%5 ==0 & a%7==0):\n",
        "  print(a)\n",
        "else:\n",
        "  print(\"Not a multiple of 5 and 7\")\n",
        "\n",
        "\n"
      ],
      "metadata": {
        "colab": {
          "base_uri": "https://localhost:8080/"
        },
        "id": "D0ZgIOKiTwst",
        "outputId": "3453b419-73dd-43d8-ce96-1a7ad6448b86"
      },
      "execution_count": 11,
      "outputs": [
        {
          "output_type": "stream",
          "name": "stdout",
          "text": [
            "Please type the number35\n",
            "35\n"
          ]
        }
      ]
    },
    {
      "cell_type": "code",
      "source": [
        "#Question 4 -Display given integer in a reverse manner\n",
        "\n",
        "a =(input(\"Please type the number\"))\n",
        "\n",
        "def reverse(a):\n",
        "  b = a[::-1]\n",
        "  print(b)\n",
        "\n",
        "reverse(a)"
      ],
      "metadata": {
        "colab": {
          "base_uri": "https://localhost:8080/"
        },
        "id": "GUUhR430WIIv",
        "outputId": "27ac8c9f-c425-4593-fdd6-4f2fc6204468"
      },
      "execution_count": 18,
      "outputs": [
        {
          "output_type": "stream",
          "name": "stdout",
          "text": [
            "Please type the number123\n",
            "321\n"
          ]
        }
      ]
    },
    {
      "cell_type": "code",
      "source": [
        "#Question 5 - Outer function and inner function\n",
        "\n",
        "\n",
        "\n",
        "def Outer_fun(a,b):\n",
        "\n",
        "\n",
        "  def inner_fun():\n",
        "    sum = a+b\n",
        "    #print(sum)\n",
        "    return sum\n",
        "  final = sum+5\n",
        "  print(final) \n",
        "\n",
        "\n",
        "Outer_fun(3,3)\n",
        "\n",
        "\n"
      ],
      "metadata": {
        "colab": {
          "base_uri": "https://localhost:8080/"
        },
        "id": "fietsUPIXe-n",
        "outputId": "0a5f079b-5fe2-42f9-f636-dc0edf77c0ba"
      },
      "execution_count": 51,
      "outputs": [
        {
          "output_type": "stream",
          "name": "stdout",
          "text": [
            "11\n"
          ]
        }
      ]
    },
    {
      "cell_type": "code",
      "source": [
        "#Question 6 -Check leap year\n",
        "\n",
        "a =int(input(\"Input year\"))\n",
        "\n",
        "def leap_year(a):\n",
        "  if(a% 100 ==0 and a% 400 ==0):\n",
        "\n",
        "\n",
        "   print('It is a leapyear')\n",
        "  elif(a%100 !=0 and a%4 ==0):\n",
        "     print(\"Its a leap year which is non centuary\")\n",
        "  else:\n",
        "    print(\"Not a leap year\")\n",
        "\n",
        "leap_year(a)"
      ],
      "metadata": {
        "colab": {
          "base_uri": "https://localhost:8080/"
        },
        "id": "xBV7ApIrYgkW",
        "outputId": "9ec1d087-1b52-4afb-e41e-e4dba726c0fe"
      },
      "execution_count": 52,
      "outputs": [
        {
          "output_type": "stream",
          "name": "stdout",
          "text": [
            "Input year2017\n",
            "Not a leap year\n"
          ]
        }
      ]
    },
    {
      "cell_type": "code",
      "source": [
        "import os\n",
        "import numpy as np\n",
        "import pandas as pd\n",
        "\n"
      ],
      "metadata": {
        "id": "u2UYamk7hVdd"
      },
      "execution_count": 45,
      "outputs": []
    }
  ]
}